{
  "nbformat": 4,
  "nbformat_minor": 0,
  "metadata": {
    "colab": {
      "provenance": []
    },
    "kernelspec": {
      "name": "python3",
      "display_name": "Python 3"
    },
    "language_info": {
      "name": "python"
    }
  },
  "cells": [
    {
      "cell_type": "code",
      "source": [
        "!pip install catboost"
      ],
      "metadata": {
        "colab": {
          "base_uri": "https://localhost:8080/"
        },
        "id": "hxX6FU0IVpui",
        "outputId": "d2ba562a-627b-4964-da1b-daf615d0bdd7"
      },
      "execution_count": 2,
      "outputs": [
        {
          "output_type": "stream",
          "name": "stdout",
          "text": [
            "Collecting catboost\n",
            "  Downloading catboost-1.2.5-cp310-cp310-manylinux2014_x86_64.whl (98.2 MB)\n",
            "\u001b[2K     \u001b[90m━━━━━━━━━━━━━━━━━━━━━━━━━━━━━━━━━━━━━━━━\u001b[0m \u001b[32m98.2/98.2 MB\u001b[0m \u001b[31m10.4 MB/s\u001b[0m eta \u001b[36m0:00:00\u001b[0m\n",
            "\u001b[?25hRequirement already satisfied: graphviz in /usr/local/lib/python3.10/dist-packages (from catboost) (0.20.3)\n",
            "Requirement already satisfied: matplotlib in /usr/local/lib/python3.10/dist-packages (from catboost) (3.7.1)\n",
            "Requirement already satisfied: numpy>=1.16.0 in /usr/local/lib/python3.10/dist-packages (from catboost) (1.25.2)\n",
            "Requirement already satisfied: pandas>=0.24 in /usr/local/lib/python3.10/dist-packages (from catboost) (2.0.3)\n",
            "Requirement already satisfied: scipy in /usr/local/lib/python3.10/dist-packages (from catboost) (1.11.4)\n",
            "Requirement already satisfied: plotly in /usr/local/lib/python3.10/dist-packages (from catboost) (5.15.0)\n",
            "Requirement already satisfied: six in /usr/local/lib/python3.10/dist-packages (from catboost) (1.16.0)\n",
            "Requirement already satisfied: python-dateutil>=2.8.2 in /usr/local/lib/python3.10/dist-packages (from pandas>=0.24->catboost) (2.8.2)\n",
            "Requirement already satisfied: pytz>=2020.1 in /usr/local/lib/python3.10/dist-packages (from pandas>=0.24->catboost) (2023.4)\n",
            "Requirement already satisfied: tzdata>=2022.1 in /usr/local/lib/python3.10/dist-packages (from pandas>=0.24->catboost) (2024.1)\n",
            "Requirement already satisfied: contourpy>=1.0.1 in /usr/local/lib/python3.10/dist-packages (from matplotlib->catboost) (1.2.1)\n",
            "Requirement already satisfied: cycler>=0.10 in /usr/local/lib/python3.10/dist-packages (from matplotlib->catboost) (0.12.1)\n",
            "Requirement already satisfied: fonttools>=4.22.0 in /usr/local/lib/python3.10/dist-packages (from matplotlib->catboost) (4.51.0)\n",
            "Requirement already satisfied: kiwisolver>=1.0.1 in /usr/local/lib/python3.10/dist-packages (from matplotlib->catboost) (1.4.5)\n",
            "Requirement already satisfied: packaging>=20.0 in /usr/local/lib/python3.10/dist-packages (from matplotlib->catboost) (24.0)\n",
            "Requirement already satisfied: pillow>=6.2.0 in /usr/local/lib/python3.10/dist-packages (from matplotlib->catboost) (9.4.0)\n",
            "Requirement already satisfied: pyparsing>=2.3.1 in /usr/local/lib/python3.10/dist-packages (from matplotlib->catboost) (3.1.2)\n",
            "Requirement already satisfied: tenacity>=6.2.0 in /usr/local/lib/python3.10/dist-packages (from plotly->catboost) (8.2.3)\n",
            "Installing collected packages: catboost\n",
            "Successfully installed catboost-1.2.5\n"
          ]
        }
      ]
    },
    {
      "cell_type": "code",
      "execution_count": 3,
      "metadata": {
        "colab": {
          "base_uri": "https://localhost:8080/"
        },
        "id": "AgoUBFAgwleE",
        "outputId": "842f5cfb-c9b1-44b4-c3c6-0fd4adc69bc2"
      },
      "outputs": [
        {
          "output_type": "stream",
          "name": "stderr",
          "text": [
            "[nltk_data] Downloading package punkt to /root/nltk_data...\n",
            "[nltk_data]   Unzipping tokenizers/punkt.zip.\n"
          ]
        }
      ],
      "source": [
        "import numpy as np\n",
        "import pandas as pd\n",
        "import matplotlib.pyplot as plt\n",
        "import seaborn as sns\n",
        "import re\n",
        "import nltk\n",
        "nltk.download('punkt')\n",
        "from nltk.tokenize import word_tokenize\n",
        "from nltk.corpus import stopwords\n",
        "from sklearn.feature_extraction.text import TfidfVectorizer\n",
        "from sklearn.model_selection import train_test_split\n",
        "from sklearn.naive_bayes import MultinomialNB\n",
        "from sklearn.ensemble import RandomForestClassifier\n",
        "from sklearn.neighbors import KNeighborsClassifier\n",
        "from sklearn.svm import SVC\n",
        "from catboost import CatBoostClassifier\n",
        "from sklearn.metrics import roc_auc_score\n",
        "from sklearn.model_selection import GridSearchCV\n",
        "from xgboost import XGBClassifier\n",
        "from lightgbm import LGBMClassifier"
      ]
    },
    {
      "cell_type": "code",
      "source": [
        "train = pd.read_csv('/content/train_spam.csv')\n",
        "train.head(50)"
      ],
      "metadata": {
        "colab": {
          "base_uri": "https://localhost:8080/",
          "height": 1000
        },
        "id": "qDitF8O9wucI",
        "outputId": "98806ac2-bb86-444a-99c0-282b0780175c"
      },
      "execution_count": 4,
      "outputs": [
        {
          "output_type": "execute_result",
          "data": {
            "text/plain": [
              "   text_type                                               text\n",
              "0        ham  make sure alex knows his birthday is over in f...\n",
              "1        ham  a resume for john lavorato thanks vince i will...\n",
              "2       spam  plzz visit my website moviesgodml to get all m...\n",
              "3       spam  urgent your mobile number has been awarded wit...\n",
              "4        ham  overview of hr associates analyst project per ...\n",
              "5       spam  i am so greatful to mrs valerie dodson for hel...\n",
              "6        ham  url url date not supplied government employees...\n",
              "7       spam  welcome to jefferson pilot s gateway to wealth...\n",
              "8        ham  looks like your ham corpus by and large has to...\n",
              "9        ham  how are you with moneyas in to youmoney aint a...\n",
              "10       ham  sevil yaman great let me know how she performs...\n",
              "11       ham  cinergy monthly prices 1998 to date margaret p...\n",
              "12       ham  stop calling everyone saying i might have canc...\n",
              "13       ham  statistician from rice osman this guy is too m...\n",
              "14       ham  hello have you seen and discussed this article...\n",
              "15       ham  meeting requested i will ask rebekah to try to...\n",
              "16       ham  you have to curl wget git the file if you want...\n",
              "17      spam  keep your esignature features save 20 view onl...\n",
              "18       ham  mr sud rebecca i share some of your concerns r...\n",
              "19       ham  on september 1635465 kialllists url said os x ...\n",
              "20       ham  hi i m building an rpm for the resin webserver...\n",
              "21      spam  what are the main symptoms and manifestations ...\n",
              "22      spam  would you like to get free navigation forever ...\n",
              "23       ham  prospective 6 22 houston visit ehud june 22 wo...\n",
              "24       ham  url jm url changed what removed added status n...\n",
              "25      spam  coffee mythcoffee drinkers are more prone to h...\n",
              "26       ham           jay wants to work out first hows 4 sound\n",
              "27       ham  approval for reviewer roberts jr michael a has...\n",
              "28       ham  project brainstorming for paulo april i ll be ...\n",
              "29       ham    you could have seen mei didt recognise you face\n",
              "30       ham                         k dahow many page you want\n",
              "31      spam  i cant still believe i made it in here after m...\n",
              "32       ham  times 2 filing units pat recently i talked wit...\n",
              "33       ham  iblong2u spirituality is for the rich as well ...\n",
              "34       ham  i also thk too fast xy suggest one not me u du...\n",
              "35      spam  after i lost my job i taught life has come to ...\n",
              "36      spam  undelivered mail returned to sender this is th...\n",
              "37       ham  ok not much to do here though hm friday cant w...\n",
              "38      spam  𝑰𝒕𝒔 𝒕𝒉𝒆 𝒔𝒆𝒄𝒐𝒏𝒅 𝒕𝒊𝒎𝒆 𝒐𝒇 𝒓𝒆𝒄𝒆𝒊𝒗𝒊𝒏𝒈 𝒎𝒚 𝒑𝒓𝒐𝒇𝒊𝒕 𝒇𝒓𝒐...\n",
              "39       ham  a boy loved a gal he propsd bt she didnt mind ...\n",
              "40       ham  on thu aug 1635465 1635465 at 1635465 1635465 ...\n",
              "41      spam  professionally designed logos and identities t...\n",
              "42       ham  meeting with vince kaminski and stinson gibner...\n",
              "43       ham  reply to the mail from ben mord bmord icon nic...\n",
              "44       ham                                ime: 63 mins approx\n",
              "45       ham  impossible may be spelled asi m possiblebuh ne...\n",
              "46      spam  got for ny an carnifornia pros with dl all sta...\n",
              "47      spam  adult club offers free membership instant acce...\n",
              "48      spam  i never sent you this keep it hush hush xgab o...\n",
              "49       ham  please approve application request wsmh 4 esnv..."
            ],
            "text/html": [
              "\n",
              "  <div id=\"df-8a55ec6a-1186-44a5-849c-fb95531bb252\" class=\"colab-df-container\">\n",
              "    <div>\n",
              "<style scoped>\n",
              "    .dataframe tbody tr th:only-of-type {\n",
              "        vertical-align: middle;\n",
              "    }\n",
              "\n",
              "    .dataframe tbody tr th {\n",
              "        vertical-align: top;\n",
              "    }\n",
              "\n",
              "    .dataframe thead th {\n",
              "        text-align: right;\n",
              "    }\n",
              "</style>\n",
              "<table border=\"1\" class=\"dataframe\">\n",
              "  <thead>\n",
              "    <tr style=\"text-align: right;\">\n",
              "      <th></th>\n",
              "      <th>text_type</th>\n",
              "      <th>text</th>\n",
              "    </tr>\n",
              "  </thead>\n",
              "  <tbody>\n",
              "    <tr>\n",
              "      <th>0</th>\n",
              "      <td>ham</td>\n",
              "      <td>make sure alex knows his birthday is over in f...</td>\n",
              "    </tr>\n",
              "    <tr>\n",
              "      <th>1</th>\n",
              "      <td>ham</td>\n",
              "      <td>a resume for john lavorato thanks vince i will...</td>\n",
              "    </tr>\n",
              "    <tr>\n",
              "      <th>2</th>\n",
              "      <td>spam</td>\n",
              "      <td>plzz visit my website moviesgodml to get all m...</td>\n",
              "    </tr>\n",
              "    <tr>\n",
              "      <th>3</th>\n",
              "      <td>spam</td>\n",
              "      <td>urgent your mobile number has been awarded wit...</td>\n",
              "    </tr>\n",
              "    <tr>\n",
              "      <th>4</th>\n",
              "      <td>ham</td>\n",
              "      <td>overview of hr associates analyst project per ...</td>\n",
              "    </tr>\n",
              "    <tr>\n",
              "      <th>5</th>\n",
              "      <td>spam</td>\n",
              "      <td>i am so greatful to mrs valerie dodson for hel...</td>\n",
              "    </tr>\n",
              "    <tr>\n",
              "      <th>6</th>\n",
              "      <td>ham</td>\n",
              "      <td>url url date not supplied government employees...</td>\n",
              "    </tr>\n",
              "    <tr>\n",
              "      <th>7</th>\n",
              "      <td>spam</td>\n",
              "      <td>welcome to jefferson pilot s gateway to wealth...</td>\n",
              "    </tr>\n",
              "    <tr>\n",
              "      <th>8</th>\n",
              "      <td>ham</td>\n",
              "      <td>looks like your ham corpus by and large has to...</td>\n",
              "    </tr>\n",
              "    <tr>\n",
              "      <th>9</th>\n",
              "      <td>ham</td>\n",
              "      <td>how are you with moneyas in to youmoney aint a...</td>\n",
              "    </tr>\n",
              "    <tr>\n",
              "      <th>10</th>\n",
              "      <td>ham</td>\n",
              "      <td>sevil yaman great let me know how she performs...</td>\n",
              "    </tr>\n",
              "    <tr>\n",
              "      <th>11</th>\n",
              "      <td>ham</td>\n",
              "      <td>cinergy monthly prices 1998 to date margaret p...</td>\n",
              "    </tr>\n",
              "    <tr>\n",
              "      <th>12</th>\n",
              "      <td>ham</td>\n",
              "      <td>stop calling everyone saying i might have canc...</td>\n",
              "    </tr>\n",
              "    <tr>\n",
              "      <th>13</th>\n",
              "      <td>ham</td>\n",
              "      <td>statistician from rice osman this guy is too m...</td>\n",
              "    </tr>\n",
              "    <tr>\n",
              "      <th>14</th>\n",
              "      <td>ham</td>\n",
              "      <td>hello have you seen and discussed this article...</td>\n",
              "    </tr>\n",
              "    <tr>\n",
              "      <th>15</th>\n",
              "      <td>ham</td>\n",
              "      <td>meeting requested i will ask rebekah to try to...</td>\n",
              "    </tr>\n",
              "    <tr>\n",
              "      <th>16</th>\n",
              "      <td>ham</td>\n",
              "      <td>you have to curl wget git the file if you want...</td>\n",
              "    </tr>\n",
              "    <tr>\n",
              "      <th>17</th>\n",
              "      <td>spam</td>\n",
              "      <td>keep your esignature features save 20 view onl...</td>\n",
              "    </tr>\n",
              "    <tr>\n",
              "      <th>18</th>\n",
              "      <td>ham</td>\n",
              "      <td>mr sud rebecca i share some of your concerns r...</td>\n",
              "    </tr>\n",
              "    <tr>\n",
              "      <th>19</th>\n",
              "      <td>ham</td>\n",
              "      <td>on september 1635465 kialllists url said os x ...</td>\n",
              "    </tr>\n",
              "    <tr>\n",
              "      <th>20</th>\n",
              "      <td>ham</td>\n",
              "      <td>hi i m building an rpm for the resin webserver...</td>\n",
              "    </tr>\n",
              "    <tr>\n",
              "      <th>21</th>\n",
              "      <td>spam</td>\n",
              "      <td>what are the main symptoms and manifestations ...</td>\n",
              "    </tr>\n",
              "    <tr>\n",
              "      <th>22</th>\n",
              "      <td>spam</td>\n",
              "      <td>would you like to get free navigation forever ...</td>\n",
              "    </tr>\n",
              "    <tr>\n",
              "      <th>23</th>\n",
              "      <td>ham</td>\n",
              "      <td>prospective 6 22 houston visit ehud june 22 wo...</td>\n",
              "    </tr>\n",
              "    <tr>\n",
              "      <th>24</th>\n",
              "      <td>ham</td>\n",
              "      <td>url jm url changed what removed added status n...</td>\n",
              "    </tr>\n",
              "    <tr>\n",
              "      <th>25</th>\n",
              "      <td>spam</td>\n",
              "      <td>coffee mythcoffee drinkers are more prone to h...</td>\n",
              "    </tr>\n",
              "    <tr>\n",
              "      <th>26</th>\n",
              "      <td>ham</td>\n",
              "      <td>jay wants to work out first hows 4 sound</td>\n",
              "    </tr>\n",
              "    <tr>\n",
              "      <th>27</th>\n",
              "      <td>ham</td>\n",
              "      <td>approval for reviewer roberts jr michael a has...</td>\n",
              "    </tr>\n",
              "    <tr>\n",
              "      <th>28</th>\n",
              "      <td>ham</td>\n",
              "      <td>project brainstorming for paulo april i ll be ...</td>\n",
              "    </tr>\n",
              "    <tr>\n",
              "      <th>29</th>\n",
              "      <td>ham</td>\n",
              "      <td>you could have seen mei didt recognise you face</td>\n",
              "    </tr>\n",
              "    <tr>\n",
              "      <th>30</th>\n",
              "      <td>ham</td>\n",
              "      <td>k dahow many page you want</td>\n",
              "    </tr>\n",
              "    <tr>\n",
              "      <th>31</th>\n",
              "      <td>spam</td>\n",
              "      <td>i cant still believe i made it in here after m...</td>\n",
              "    </tr>\n",
              "    <tr>\n",
              "      <th>32</th>\n",
              "      <td>ham</td>\n",
              "      <td>times 2 filing units pat recently i talked wit...</td>\n",
              "    </tr>\n",
              "    <tr>\n",
              "      <th>33</th>\n",
              "      <td>ham</td>\n",
              "      <td>iblong2u spirituality is for the rich as well ...</td>\n",
              "    </tr>\n",
              "    <tr>\n",
              "      <th>34</th>\n",
              "      <td>ham</td>\n",
              "      <td>i also thk too fast xy suggest one not me u du...</td>\n",
              "    </tr>\n",
              "    <tr>\n",
              "      <th>35</th>\n",
              "      <td>spam</td>\n",
              "      <td>after i lost my job i taught life has come to ...</td>\n",
              "    </tr>\n",
              "    <tr>\n",
              "      <th>36</th>\n",
              "      <td>spam</td>\n",
              "      <td>undelivered mail returned to sender this is th...</td>\n",
              "    </tr>\n",
              "    <tr>\n",
              "      <th>37</th>\n",
              "      <td>ham</td>\n",
              "      <td>ok not much to do here though hm friday cant w...</td>\n",
              "    </tr>\n",
              "    <tr>\n",
              "      <th>38</th>\n",
              "      <td>spam</td>\n",
              "      <td>𝑰𝒕𝒔 𝒕𝒉𝒆 𝒔𝒆𝒄𝒐𝒏𝒅 𝒕𝒊𝒎𝒆 𝒐𝒇 𝒓𝒆𝒄𝒆𝒊𝒗𝒊𝒏𝒈 𝒎𝒚 𝒑𝒓𝒐𝒇𝒊𝒕 𝒇𝒓𝒐...</td>\n",
              "    </tr>\n",
              "    <tr>\n",
              "      <th>39</th>\n",
              "      <td>ham</td>\n",
              "      <td>a boy loved a gal he propsd bt she didnt mind ...</td>\n",
              "    </tr>\n",
              "    <tr>\n",
              "      <th>40</th>\n",
              "      <td>ham</td>\n",
              "      <td>on thu aug 1635465 1635465 at 1635465 1635465 ...</td>\n",
              "    </tr>\n",
              "    <tr>\n",
              "      <th>41</th>\n",
              "      <td>spam</td>\n",
              "      <td>professionally designed logos and identities t...</td>\n",
              "    </tr>\n",
              "    <tr>\n",
              "      <th>42</th>\n",
              "      <td>ham</td>\n",
              "      <td>meeting with vince kaminski and stinson gibner...</td>\n",
              "    </tr>\n",
              "    <tr>\n",
              "      <th>43</th>\n",
              "      <td>ham</td>\n",
              "      <td>reply to the mail from ben mord bmord icon nic...</td>\n",
              "    </tr>\n",
              "    <tr>\n",
              "      <th>44</th>\n",
              "      <td>ham</td>\n",
              "      <td>ime: 63 mins approx</td>\n",
              "    </tr>\n",
              "    <tr>\n",
              "      <th>45</th>\n",
              "      <td>ham</td>\n",
              "      <td>impossible may be spelled asi m possiblebuh ne...</td>\n",
              "    </tr>\n",
              "    <tr>\n",
              "      <th>46</th>\n",
              "      <td>spam</td>\n",
              "      <td>got for ny an carnifornia pros with dl all sta...</td>\n",
              "    </tr>\n",
              "    <tr>\n",
              "      <th>47</th>\n",
              "      <td>spam</td>\n",
              "      <td>adult club offers free membership instant acce...</td>\n",
              "    </tr>\n",
              "    <tr>\n",
              "      <th>48</th>\n",
              "      <td>spam</td>\n",
              "      <td>i never sent you this keep it hush hush xgab o...</td>\n",
              "    </tr>\n",
              "    <tr>\n",
              "      <th>49</th>\n",
              "      <td>ham</td>\n",
              "      <td>please approve application request wsmh 4 esnv...</td>\n",
              "    </tr>\n",
              "  </tbody>\n",
              "</table>\n",
              "</div>\n",
              "    <div class=\"colab-df-buttons\">\n",
              "\n",
              "  <div class=\"colab-df-container\">\n",
              "    <button class=\"colab-df-convert\" onclick=\"convertToInteractive('df-8a55ec6a-1186-44a5-849c-fb95531bb252')\"\n",
              "            title=\"Convert this dataframe to an interactive table.\"\n",
              "            style=\"display:none;\">\n",
              "\n",
              "  <svg xmlns=\"http://www.w3.org/2000/svg\" height=\"24px\" viewBox=\"0 -960 960 960\">\n",
              "    <path d=\"M120-120v-720h720v720H120Zm60-500h600v-160H180v160Zm220 220h160v-160H400v160Zm0 220h160v-160H400v160ZM180-400h160v-160H180v160Zm440 0h160v-160H620v160ZM180-180h160v-160H180v160Zm440 0h160v-160H620v160Z\"/>\n",
              "  </svg>\n",
              "    </button>\n",
              "\n",
              "  <style>\n",
              "    .colab-df-container {\n",
              "      display:flex;\n",
              "      gap: 12px;\n",
              "    }\n",
              "\n",
              "    .colab-df-convert {\n",
              "      background-color: #E8F0FE;\n",
              "      border: none;\n",
              "      border-radius: 50%;\n",
              "      cursor: pointer;\n",
              "      display: none;\n",
              "      fill: #1967D2;\n",
              "      height: 32px;\n",
              "      padding: 0 0 0 0;\n",
              "      width: 32px;\n",
              "    }\n",
              "\n",
              "    .colab-df-convert:hover {\n",
              "      background-color: #E2EBFA;\n",
              "      box-shadow: 0px 1px 2px rgba(60, 64, 67, 0.3), 0px 1px 3px 1px rgba(60, 64, 67, 0.15);\n",
              "      fill: #174EA6;\n",
              "    }\n",
              "\n",
              "    .colab-df-buttons div {\n",
              "      margin-bottom: 4px;\n",
              "    }\n",
              "\n",
              "    [theme=dark] .colab-df-convert {\n",
              "      background-color: #3B4455;\n",
              "      fill: #D2E3FC;\n",
              "    }\n",
              "\n",
              "    [theme=dark] .colab-df-convert:hover {\n",
              "      background-color: #434B5C;\n",
              "      box-shadow: 0px 1px 3px 1px rgba(0, 0, 0, 0.15);\n",
              "      filter: drop-shadow(0px 1px 2px rgba(0, 0, 0, 0.3));\n",
              "      fill: #FFFFFF;\n",
              "    }\n",
              "  </style>\n",
              "\n",
              "    <script>\n",
              "      const buttonEl =\n",
              "        document.querySelector('#df-8a55ec6a-1186-44a5-849c-fb95531bb252 button.colab-df-convert');\n",
              "      buttonEl.style.display =\n",
              "        google.colab.kernel.accessAllowed ? 'block' : 'none';\n",
              "\n",
              "      async function convertToInteractive(key) {\n",
              "        const element = document.querySelector('#df-8a55ec6a-1186-44a5-849c-fb95531bb252');\n",
              "        const dataTable =\n",
              "          await google.colab.kernel.invokeFunction('convertToInteractive',\n",
              "                                                    [key], {});\n",
              "        if (!dataTable) return;\n",
              "\n",
              "        const docLinkHtml = 'Like what you see? Visit the ' +\n",
              "          '<a target=\"_blank\" href=https://colab.research.google.com/notebooks/data_table.ipynb>data table notebook</a>'\n",
              "          + ' to learn more about interactive tables.';\n",
              "        element.innerHTML = '';\n",
              "        dataTable['output_type'] = 'display_data';\n",
              "        await google.colab.output.renderOutput(dataTable, element);\n",
              "        const docLink = document.createElement('div');\n",
              "        docLink.innerHTML = docLinkHtml;\n",
              "        element.appendChild(docLink);\n",
              "      }\n",
              "    </script>\n",
              "  </div>\n",
              "\n",
              "\n",
              "<div id=\"df-8c591266-24f6-494c-96a1-ba2da8c1ecec\">\n",
              "  <button class=\"colab-df-quickchart\" onclick=\"quickchart('df-8c591266-24f6-494c-96a1-ba2da8c1ecec')\"\n",
              "            title=\"Suggest charts\"\n",
              "            style=\"display:none;\">\n",
              "\n",
              "<svg xmlns=\"http://www.w3.org/2000/svg\" height=\"24px\"viewBox=\"0 0 24 24\"\n",
              "     width=\"24px\">\n",
              "    <g>\n",
              "        <path d=\"M19 3H5c-1.1 0-2 .9-2 2v14c0 1.1.9 2 2 2h14c1.1 0 2-.9 2-2V5c0-1.1-.9-2-2-2zM9 17H7v-7h2v7zm4 0h-2V7h2v10zm4 0h-2v-4h2v4z\"/>\n",
              "    </g>\n",
              "</svg>\n",
              "  </button>\n",
              "\n",
              "<style>\n",
              "  .colab-df-quickchart {\n",
              "      --bg-color: #E8F0FE;\n",
              "      --fill-color: #1967D2;\n",
              "      --hover-bg-color: #E2EBFA;\n",
              "      --hover-fill-color: #174EA6;\n",
              "      --disabled-fill-color: #AAA;\n",
              "      --disabled-bg-color: #DDD;\n",
              "  }\n",
              "\n",
              "  [theme=dark] .colab-df-quickchart {\n",
              "      --bg-color: #3B4455;\n",
              "      --fill-color: #D2E3FC;\n",
              "      --hover-bg-color: #434B5C;\n",
              "      --hover-fill-color: #FFFFFF;\n",
              "      --disabled-bg-color: #3B4455;\n",
              "      --disabled-fill-color: #666;\n",
              "  }\n",
              "\n",
              "  .colab-df-quickchart {\n",
              "    background-color: var(--bg-color);\n",
              "    border: none;\n",
              "    border-radius: 50%;\n",
              "    cursor: pointer;\n",
              "    display: none;\n",
              "    fill: var(--fill-color);\n",
              "    height: 32px;\n",
              "    padding: 0;\n",
              "    width: 32px;\n",
              "  }\n",
              "\n",
              "  .colab-df-quickchart:hover {\n",
              "    background-color: var(--hover-bg-color);\n",
              "    box-shadow: 0 1px 2px rgba(60, 64, 67, 0.3), 0 1px 3px 1px rgba(60, 64, 67, 0.15);\n",
              "    fill: var(--button-hover-fill-color);\n",
              "  }\n",
              "\n",
              "  .colab-df-quickchart-complete:disabled,\n",
              "  .colab-df-quickchart-complete:disabled:hover {\n",
              "    background-color: var(--disabled-bg-color);\n",
              "    fill: var(--disabled-fill-color);\n",
              "    box-shadow: none;\n",
              "  }\n",
              "\n",
              "  .colab-df-spinner {\n",
              "    border: 2px solid var(--fill-color);\n",
              "    border-color: transparent;\n",
              "    border-bottom-color: var(--fill-color);\n",
              "    animation:\n",
              "      spin 1s steps(1) infinite;\n",
              "  }\n",
              "\n",
              "  @keyframes spin {\n",
              "    0% {\n",
              "      border-color: transparent;\n",
              "      border-bottom-color: var(--fill-color);\n",
              "      border-left-color: var(--fill-color);\n",
              "    }\n",
              "    20% {\n",
              "      border-color: transparent;\n",
              "      border-left-color: var(--fill-color);\n",
              "      border-top-color: var(--fill-color);\n",
              "    }\n",
              "    30% {\n",
              "      border-color: transparent;\n",
              "      border-left-color: var(--fill-color);\n",
              "      border-top-color: var(--fill-color);\n",
              "      border-right-color: var(--fill-color);\n",
              "    }\n",
              "    40% {\n",
              "      border-color: transparent;\n",
              "      border-right-color: var(--fill-color);\n",
              "      border-top-color: var(--fill-color);\n",
              "    }\n",
              "    60% {\n",
              "      border-color: transparent;\n",
              "      border-right-color: var(--fill-color);\n",
              "    }\n",
              "    80% {\n",
              "      border-color: transparent;\n",
              "      border-right-color: var(--fill-color);\n",
              "      border-bottom-color: var(--fill-color);\n",
              "    }\n",
              "    90% {\n",
              "      border-color: transparent;\n",
              "      border-bottom-color: var(--fill-color);\n",
              "    }\n",
              "  }\n",
              "</style>\n",
              "\n",
              "  <script>\n",
              "    async function quickchart(key) {\n",
              "      const quickchartButtonEl =\n",
              "        document.querySelector('#' + key + ' button');\n",
              "      quickchartButtonEl.disabled = true;  // To prevent multiple clicks.\n",
              "      quickchartButtonEl.classList.add('colab-df-spinner');\n",
              "      try {\n",
              "        const charts = await google.colab.kernel.invokeFunction(\n",
              "            'suggestCharts', [key], {});\n",
              "      } catch (error) {\n",
              "        console.error('Error during call to suggestCharts:', error);\n",
              "      }\n",
              "      quickchartButtonEl.classList.remove('colab-df-spinner');\n",
              "      quickchartButtonEl.classList.add('colab-df-quickchart-complete');\n",
              "    }\n",
              "    (() => {\n",
              "      let quickchartButtonEl =\n",
              "        document.querySelector('#df-8c591266-24f6-494c-96a1-ba2da8c1ecec button');\n",
              "      quickchartButtonEl.style.display =\n",
              "        google.colab.kernel.accessAllowed ? 'block' : 'none';\n",
              "    })();\n",
              "  </script>\n",
              "</div>\n",
              "    </div>\n",
              "  </div>\n"
            ],
            "application/vnd.google.colaboratory.intrinsic+json": {
              "type": "dataframe",
              "variable_name": "train",
              "summary": "{\n  \"name\": \"train\",\n  \"rows\": 16278,\n  \"fields\": [\n    {\n      \"column\": \"text_type\",\n      \"properties\": {\n        \"dtype\": \"category\",\n        \"num_unique_values\": 2,\n        \"samples\": [\n          \"spam\",\n          \"ham\"\n        ],\n        \"semantic_type\": \"\",\n        \"description\": \"\"\n      }\n    },\n    {\n      \"column\": \"text\",\n      \"properties\": {\n        \"dtype\": \"string\",\n        \"num_unique_values\": 16267,\n        \"samples\": [\n          \"enron opportunities thanks vince we will follow up with this lsu graduate hope you are doing well regards lynn dunphy vince j kaminski 02 15 2000 08 53 am to lynn dunphy hou ect ect cc vince j kaminski hou ect ect subject enron opportunities lynn i am forwarding you the resume of a very bright and motivated young man who attended a lecture i gave recently at lsu i think we should consider him for an analyst position vinceforwarded by vince j kaminski hou ect on 02 15 2000 08 52 am richard c iles on 09 14 2000 11 14 56 am please respond to richard c iles to cc subject enron opportunities dr kaminski here is my resume and cover letter thanks richard iles enron cover and\",\n          \"biliana s resume geynille i understand you are in charge of recruiting at the uofh i am forwarding to you the resume of one of the students of the university of houston she is involved with the international organization called aiesec and i was most impressed by her organizational skills and professional attitude i used to work as a volunteer for this organization many years ago and i am still helping their local chapter as far as i know she signed up for an interview with enron vince kaminskiforwarded by vince j kaminski hou ect on 09 29 2000 02 13 pm biliana pehlivanova on 09 28 2000 06 02 20 pm to vkamins enron com cc subject biliana s resume mr kaminski thank you for referring me to your recru\"\n        ],\n        \"semantic_type\": \"\",\n        \"description\": \"\"\n      }\n    }\n  ]\n}"
            }
          },
          "metadata": {},
          "execution_count": 4
        }
      ]
    },
    {
      "cell_type": "markdown",
      "source": [
        "Нужно предобработать данные"
      ],
      "metadata": {
        "id": "G2PrIDtu0CE2"
      }
    },
    {
      "cell_type": "code",
      "source": [
        "missing_values = train.isna().sum()\n",
        "print(missing_values)\n",
        "#Мало ли)))"
      ],
      "metadata": {
        "colab": {
          "base_uri": "https://localhost:8080/"
        },
        "id": "heIo4v8Qh87_",
        "outputId": "fa798d57-1e8e-4a2f-ad8c-8e61d45ccf0a"
      },
      "execution_count": 5,
      "outputs": [
        {
          "output_type": "stream",
          "name": "stdout",
          "text": [
            "text_type    0\n",
            "text         0\n",
            "dtype: int64\n"
          ]
        }
      ]
    },
    {
      "cell_type": "code",
      "source": [
        "sns.countplot(data = train, x = train['text_type'])"
      ],
      "metadata": {
        "colab": {
          "base_uri": "https://localhost:8080/",
          "height": 471
        },
        "id": "09pQ0WrDynSm",
        "outputId": "b62f1638-fdf2-4721-abf2-39f2e1c30c60"
      },
      "execution_count": 6,
      "outputs": [
        {
          "output_type": "execute_result",
          "data": {
            "text/plain": [
              "<Axes: xlabel='text_type', ylabel='count'>"
            ]
          },
          "metadata": {},
          "execution_count": 6
        },
        {
          "output_type": "display_data",
          "data": {
            "text/plain": [
              "<Figure size 640x480 with 1 Axes>"
            ],
            "image/png": "[encoded data removed]"
          },
          "metadata": {}
        }
      ]
    },
    {
      "cell_type": "markdown",
      "source": [
        "Почистим текст, уберем всю пунктуацию и возможные двойные пробелы\n"
      ],
      "metadata": {
        "id": "DQJATxI_4BOF"
      }
    },
    {
      "cell_type": "code",
      "source": [
        "def preprocess_text(text):\n",
        "    text = re.sub(r'[^\\w\\s]', '', text)\n",
        "    text = re.sub(r'\\s+', ' ', text)\n",
        "    text = re.sub(r'\\d', '', text)\n",
        "    return text\n",
        "train['tokens'] = [preprocess_text(i) for i in train['text']]"
      ],
      "metadata": {
        "id": "jZSn6cvX0Gt8"
      },
      "execution_count": 7,
      "outputs": []
    },
    {
      "cell_type": "code",
      "source": [
        "labels = {'ham': 0, 'spam': 1}\n",
        "train['text_type'] = train['text_type'].map(labels)"
      ],
      "metadata": {
        "id": "nQYpAkbIpbrE"
      },
      "execution_count": 8,
      "outputs": []
    },
    {
      "cell_type": "markdown",
      "source": [
        "Преобразовали таргет в числа и теперь векторизируем наш train"
      ],
      "metadata": {
        "id": "eTHfhmgM4WcK"
      }
    },
    {
      "cell_type": "code",
      "source": [
        "vectorizer = TfidfVectorizer(stop_words='english')\n",
        "train_matrix = vectorizer.fit_transform(train['tokens'])"
      ],
      "metadata": {
        "id": "L857ouFPEeNX"
      },
      "execution_count": 9,
      "outputs": []
    },
    {
      "cell_type": "code",
      "source": [
        "X_train, X_val, y_train, y_val = train_test_split(train_matrix, train['text_type'], test_size=0.2, random_state=42)"
      ],
      "metadata": {
        "id": "851YaZ28ezFH"
      },
      "execution_count": 10,
      "outputs": []
    },
    {
      "cell_type": "markdown",
      "source": [
        "На всякий зафиксирую random_state, shuffle нет смысла фиксировать, он по дефолту True"
      ],
      "metadata": {
        "id": "QMYPECN94cvq"
      }
    },
    {
      "cell_type": "code",
      "source": [
        "X_train.dtype"
      ],
      "metadata": {
        "colab": {
          "base_uri": "https://localhost:8080/"
        },
        "id": "K-xwQf8dlxY0",
        "outputId": "6f040a19-2a2d-4183-d7db-993638ff061a"
      },
      "execution_count": 11,
      "outputs": [
        {
          "output_type": "execute_result",
          "data": {
            "text/plain": [
              "dtype('float64')"
            ]
          },
          "metadata": {},
          "execution_count": 11
        }
      ]
    },
    {
      "cell_type": "markdown",
      "source": [
        "Теперь напишем функцию обучения, чтобы не захламлять код и не оставлять кучу мусора"
      ],
      "metadata": {
        "id": "8tW2n4tr36Ju"
      }
    },
    {
      "cell_type": "code",
      "source": [
        "def train_test(model, X_train, y_train, X_val, y_val):\n",
        "  model.fit(X_train, y_train)\n",
        "  predictions = model.predict_proba(X_val)[:, 1]\n",
        "  roc_auc = roc_auc_score(y_val, predictions)\n",
        "  return roc_auc"
      ],
      "metadata": {
        "id": "CP9zcouPe8S5"
      },
      "execution_count": 12,
      "outputs": []
    },
    {
      "cell_type": "markdown",
      "source": [
        "Попробуем базовые модели, не меняя параметров, ничего не трогая"
      ],
      "metadata": {
        "id": "UA_PV7Nu4oDE"
      }
    },
    {
      "cell_type": "code",
      "source": [
        "model = RandomForestClassifier()\n",
        "print(\"ROC AUC = \", train_test(model, X_train, y_train, X_val, y_val))"
      ],
      "metadata": {
        "colab": {
          "base_uri": "https://localhost:8080/"
        },
        "id": "piDgrYkjWcoa",
        "outputId": "aa30295e-4842-4e8f-83fe-3cb689be0cf9"
      },
      "execution_count": 18,
      "outputs": [
        {
          "output_type": "stream",
          "name": "stdout",
          "text": [
            "ROC AUC =  0.979351284597502\n"
          ]
        }
      ]
    },
    {
      "cell_type": "code",
      "source": [
        "model = MultinomialNB()\n",
        "print(\"ROC AUC = \", train_test(model, X_train, y_train, X_val, y_val))"
      ],
      "metadata": {
        "colab": {
          "base_uri": "https://localhost:8080/"
        },
        "id": "PW7j9DeMX7GE",
        "outputId": "10a0cf94-b883-4e77-85d7-6f9369cb7490"
      },
      "execution_count": 19,
      "outputs": [
        {
          "output_type": "stream",
          "name": "stdout",
          "text": [
            "ROC AUC =  0.9557585127192547\n"
          ]
        }
      ]
    },
    {
      "cell_type": "code",
      "source": [
        "model = KNeighborsClassifier()\n",
        "print(\"ROC AUC = \", train_test(model, X_train, y_train, X_val, y_val))"
      ],
      "metadata": {
        "colab": {
          "base_uri": "https://localhost:8080/"
        },
        "id": "ds2aRer7X_nj",
        "outputId": "ec33f667-32b9-4e11-a2c1-411558888a58"
      },
      "execution_count": 20,
      "outputs": [
        {
          "output_type": "stream",
          "name": "stdout",
          "text": [
            "ROC AUC =  0.6797166996523258\n"
          ]
        }
      ]
    },
    {
      "cell_type": "code",
      "source": [
        "model = SVC(probability = True)\n",
        "print(\"ROC AUC = \", train_test(model, X_train, y_train, X_val, y_val))"
      ],
      "metadata": {
        "colab": {
          "base_uri": "https://localhost:8080/"
        },
        "id": "VEVQSfd8YC3L",
        "outputId": "de2b9c9a-661a-41b7-da71-220105747f26"
      },
      "execution_count": 22,
      "outputs": [
        {
          "output_type": "stream",
          "name": "stdout",
          "text": [
            "ROC AUC =  0.9842201061224303\n"
          ]
        }
      ]
    },
    {
      "cell_type": "code",
      "source": [
        "model = CatBoostClassifier(verbose = False)\n",
        "print(\"ROC AUC = \", train_test(model, X_train, y_train, X_val, y_val))"
      ],
      "metadata": {
        "colab": {
          "base_uri": "https://localhost:8080/"
        },
        "id": "wieiVO-XrYBQ",
        "outputId": "e1907985-3f8a-4158-917c-7c9f4eda89e2"
      },
      "execution_count": 17,
      "outputs": [
        {
          "output_type": "stream",
          "name": "stdout",
          "text": [
            "ROC AUC =  0.9752644420738802\n"
          ]
        }
      ]
    },
    {
      "cell_type": "code",
      "source": [
        "model = XGBClassifier(objective = 'binary:logistic')\n",
        "print(\"ROC AUC = \", train_test(model, X_train, y_train, X_val, y_val))"
      ],
      "metadata": {
        "colab": {
          "base_uri": "https://localhost:8080/"
        },
        "id": "wouHhIB9WgWW",
        "outputId": "4dea68cb-3b78-4e3b-98ef-4b111d1ed8b8"
      },
      "execution_count": 31,
      "outputs": [
        {
          "output_type": "stream",
          "name": "stdout",
          "text": [
            "ROC AUC =  0.7252592580645906\n"
          ]
        }
      ]
    },
    {
      "cell_type": "code",
      "source": [
        "model = LGBMClassifier(verbose = -1)\n",
        "print(\"ROC AUC = \", train_test(model, X_train, y_train, X_val, y_val))"
      ],
      "metadata": {
        "colab": {
          "base_uri": "https://localhost:8080/"
        },
        "id": "_XpvSPLjWo_r",
        "outputId": "e756cffa-144d-4471-e8e3-0ac2d64c0807"
      },
      "execution_count": 28,
      "outputs": [
        {
          "output_type": "stream",
          "name": "stdout",
          "text": [
            "ROC AUC =  0.9720584203286893\n"
          ]
        }
      ]
    },
    {
      "cell_type": "markdown",
      "source": [
        "Лучше всего себя показали, CatBoost, LightGBM, SVC, RandomForest. Теперь проведем небольшой тест параметров именно для них. Обучается долго, поэтому небольшой GridSearch."
      ],
      "metadata": {
        "id": "Pee-dXU34svl"
      }
    },
    {
      "cell_type": "code",
      "source": [
        "param_grid = {\n",
        "    'iterations': [100, 500],\n",
        "    'learning_rate': [0.01, 0.1],\n",
        "    'depth': [5, 7, 9],\n",
        "    'loss_function': ['CrossEntropy']\n",
        "}\n",
        "model = CatBoostClassifier(verbose=False)\n",
        "grid_search = GridSearchCV(estimator=model, param_grid=param_grid, cv=3, scoring='roc_auc')\n",
        "grid_search.fit(X_train, y_train)\n",
        "print(\"Best Parameters:\", grid_search.best_params_)"
      ],
      "metadata": {
        "colab": {
          "base_uri": "https://localhost:8080/"
        },
        "id": "Vz13QOIlrSo4",
        "outputId": "d1ca1fb0-5212-421a-94e7-32a57805cc13"
      },
      "execution_count": 33,
      "outputs": [
        {
          "output_type": "stream",
          "name": "stdout",
          "text": [
            "Best Parameters: {'depth': 9, 'iterations': 500, 'learning_rate': 0.1, 'loss_function': 'CrossEntropy'}\n"
          ]
        }
      ]
    },
    {
      "cell_type": "code",
      "source": [
        "param_grid = {\n",
        "    'n_estimators': [100, 500],\n",
        "    'learning_rate': [0.01, 0.1],\n",
        "    'max_depth': [5, 7, 9],\n",
        "    'objective': ['binary'],\n",
        "    'metric': ['auc'],\n",
        "    'verbose': [-1]\n",
        "}\n",
        "\n",
        "model = LGBMClassifier()\n",
        "grid_search = GridSearchCV(estimator=model, param_grid=param_grid, cv=3, scoring='roc_auc')\n",
        "grid_search.fit(X_train, y_train)\n",
        "print(\"Best Parameters:\", grid_search.best_params_)"
      ],
      "metadata": {
        "colab": {
          "base_uri": "https://localhost:8080/"
        },
        "id": "MNLnriit3igC",
        "outputId": "06abda84-0dee-4cb9-ae0a-273190b84f8b"
      },
      "execution_count": 31,
      "outputs": [
        {
          "output_type": "stream",
          "name": "stdout",
          "text": [
            "Best Parameters: {'learning_rate': 0.1, 'max_depth': 9, 'metric': 'auc', 'n_estimators': 500, 'objective': 'binary', 'verbose': -1}\n"
          ]
        }
      ]
    },
    {
      "cell_type": "code",
      "source": [
        "param_grid = {\n",
        "    'C': [0.1, 0.5, 1, 2, 5, 10],\n",
        "    'kernel': ['linear', 'rbf'],\n",
        "}\n",
        "model = SVC(probability=True)\n",
        "grid_search = GridSearchCV(estimator=model, param_grid=param_grid, cv=3, scoring='roc_auc')\n",
        "grid_search.fit(X_train, y_train)\n",
        "\n",
        "print(\"Best Parameters:\", grid_search.best_params_)"
      ],
      "metadata": {
        "colab": {
          "base_uri": "https://localhost:8080/"
        },
        "id": "Q69Dp7n15M0p",
        "outputId": "d12c3571-b16b-4f63-837b-12c17c0b6d00"
      },
      "execution_count": 19,
      "outputs": [
        {
          "output_type": "stream",
          "name": "stdout",
          "text": [
            "Best Parameters: {'C': 2, 'kernel': 'rbf'}\n"
          ]
        }
      ]
    },
    {
      "cell_type": "code",
      "source": [
        "param_grid = {\n",
        "    'n_estimators': [100, 500, 1000, 1500],\n",
        "    'criterion' :['gini', 'entropy'],\n",
        "}\n",
        "model = RandomForestClassifier()\n",
        "grid_search = GridSearchCV(estimator=model, param_grid=param_grid, cv=3, scoring='roc_auc')\n",
        "grid_search.fit(X_train, y_train)\n",
        "\n",
        "print(\"Best Parameters:\", grid_search.best_params_)"
      ],
      "metadata": {
        "colab": {
          "base_uri": "https://localhost:8080/"
        },
        "id": "3rGLSCyu6oEb",
        "outputId": "a39a07a5-a168-4494-98f8-92f870903d8d"
      },
      "execution_count": 37,
      "outputs": [
        {
          "output_type": "stream",
          "name": "stdout",
          "text": [
            "Best Parameters: {'criterion': 'entropy', 'n_estimators': 1000}\n"
          ]
        }
      ]
    },
    {
      "cell_type": "markdown",
      "source": [
        "Теперь обучим с подобранными параметрами и выберем по итогу лучшую модель"
      ],
      "metadata": {
        "id": "j1Y1KxBR51fQ"
      }
    },
    {
      "cell_type": "code",
      "source": [
        "model = CatBoostClassifier(depth = 9, iterations = 500, learning_rate = 0.1, loss_function = 'CrossEntropy', verbose = False)\n",
        "print(\"ROC AUC = \", train_test(model, X_train, y_train, X_val, y_val))"
      ],
      "metadata": {
        "colab": {
          "base_uri": "https://localhost:8080/"
        },
        "id": "C7s6NcaN6d8j",
        "outputId": "2ba217d0-5304-47bb-eadf-a9263b531327"
      },
      "execution_count": 22,
      "outputs": [
        {
          "output_type": "stream",
          "name": "stdout",
          "text": [
            "ROC AUC =  0.9785080190863702\n"
          ]
        }
      ]
    },
    {
      "cell_type": "code",
      "source": [
        "model = LGBMClassifier(learning_rate = 0.1, max_depth = 9, n_estimators = 500, objective = 'binary', verbose = -1)\n",
        "print(\"ROC AUC = \", train_test(model, X_train, y_train, X_val, y_val))"
      ],
      "metadata": {
        "colab": {
          "base_uri": "https://localhost:8080/"
        },
        "id": "9a4PUUBU5C5H",
        "outputId": "74eb51c2-33f5-4927-a839-88d73db6ff6d"
      },
      "execution_count": 26,
      "outputs": [
        {
          "output_type": "stream",
          "name": "stdout",
          "text": [
            "ROC AUC =  0.976466901828688\n"
          ]
        }
      ]
    },
    {
      "cell_type": "code",
      "source": [
        "model = SVC(probability = True, C = 2)\n",
        "print(\"ROC AUC = \", train_test(model, X_train, y_train, X_val, y_val))"
      ],
      "metadata": {
        "colab": {
          "base_uri": "https://localhost:8080/"
        },
        "id": "7PdrZEE8wRnJ",
        "outputId": "36d9feb2-5b7d-4582-b920-36cf463ef9a4"
      },
      "execution_count": 45,
      "outputs": [
        {
          "output_type": "stream",
          "name": "stdout",
          "text": [
            "ROC AUC =  0.9855746301497372\n"
          ]
        }
      ]
    },
    {
      "cell_type": "code",
      "source": [
        "model = RandomForestClassifier(n_estimators = 1000, criterion = 'entropy')\n",
        "print(\"ROC AUC = \", train_test(model, X_train, y_train, X_val, y_val))"
      ],
      "metadata": {
        "colab": {
          "base_uri": "https://localhost:8080/"
        },
        "id": "hLXEkz-27rFE",
        "outputId": "f136702a-dbe9-457a-cdc1-29dbeefbeb06"
      },
      "execution_count": 34,
      "outputs": [
        {
          "output_type": "stream",
          "name": "stdout",
          "text": [
            "ROC AUC =  0.9818398394569924\n"
          ]
        }
      ]
    },
    {
      "cell_type": "markdown",
      "source": [
        "Итого, лучшая модель - SVC с параметров С = 2 . Теперь обработаем файл test_spam.csv и запишем результат в файл. Обработаем аналогично как было сделано для train."
      ],
      "metadata": {
        "id": "QAucDBHC7rcX"
      }
    },
    {
      "cell_type": "code",
      "source": [
        "test = pd.read_csv('/content/test_spam.csv')\n",
        "test.head()"
      ],
      "metadata": {
        "colab": {
          "base_uri": "https://localhost:8080/",
          "height": 206
        },
        "id": "J6IGNyzg8Kbu",
        "outputId": "63f55ae0-26f2-4b3c-f7c4-955b51069a40"
      },
      "execution_count": 70,
      "outputs": [
        {
          "output_type": "execute_result",
          "data": {
            "text/plain": [
              "                                                text\n",
              "0  j jim whitehead ejw cse ucsc edu writes j you ...\n",
              "1  original message from bitbitch magnesium net p...\n",
              "2  java for managers vince durasoft who just taug...\n",
              "3               there is a youtuber name saiman says\n",
              "4  underpriced issue with high return on equity t..."
            ],
            "text/html": [
              "\n",
              "  <div id=\"df-d6ed7e22-6f8d-4df8-94fb-3ea2fd80c8be\" class=\"colab-df-container\">\n",
              "    <div>\n",
              "<style scoped>\n",
              "    .dataframe tbody tr th:only-of-type {\n",
              "        vertical-align: middle;\n",
              "    }\n",
              "\n",
              "    .dataframe tbody tr th {\n",
              "        vertical-align: top;\n",
              "    }\n",
              "\n",
              "    .dataframe thead th {\n",
              "        text-align: right;\n",
              "    }\n",
              "</style>\n",
              "<table border=\"1\" class=\"dataframe\">\n",
              "  <thead>\n",
              "    <tr style=\"text-align: right;\">\n",
              "      <th></th>\n",
              "      <th>text</th>\n",
              "    </tr>\n",
              "  </thead>\n",
              "  <tbody>\n",
              "    <tr>\n",
              "      <th>0</th>\n",
              "      <td>j jim whitehead ejw cse ucsc edu writes j you ...</td>\n",
              "    </tr>\n",
              "    <tr>\n",
              "      <th>1</th>\n",
              "      <td>original message from bitbitch magnesium net p...</td>\n",
              "    </tr>\n",
              "    <tr>\n",
              "      <th>2</th>\n",
              "      <td>java for managers vince durasoft who just taug...</td>\n",
              "    </tr>\n",
              "    <tr>\n",
              "      <th>3</th>\n",
              "      <td>there is a youtuber name saiman says</td>\n",
              "    </tr>\n",
              "    <tr>\n",
              "      <th>4</th>\n",
              "      <td>underpriced issue with high return on equity t...</td>\n",
              "    </tr>\n",
              "  </tbody>\n",
              "</table>\n",
              "</div>\n",
              "    <div class=\"colab-df-buttons\">\n",
              "\n",
              "  <div class=\"colab-df-container\">\n",
              "    <button class=\"colab-df-convert\" onclick=\"convertToInteractive('df-d6ed7e22-6f8d-4df8-94fb-3ea2fd80c8be')\"\n",
              "            title=\"Convert this dataframe to an interactive table.\"\n",
              "            style=\"display:none;\">\n",
              "\n",
              "  <svg xmlns=\"http://www.w3.org/2000/svg\" height=\"24px\" viewBox=\"0 -960 960 960\">\n",
              "    <path d=\"M120-120v-720h720v720H120Zm60-500h600v-160H180v160Zm220 220h160v-160H400v160Zm0 220h160v-160H400v160ZM180-400h160v-160H180v160Zm440 0h160v-160H620v160ZM180-180h160v-160H180v160Zm440 0h160v-160H620v160Z\"/>\n",
              "  </svg>\n",
              "    </button>\n",
              "\n",
              "  <style>\n",
              "    .colab-df-container {\n",
              "      display:flex;\n",
              "      gap: 12px;\n",
              "    }\n",
              "\n",
              "    .colab-df-convert {\n",
              "      background-color: #E8F0FE;\n",
              "      border: none;\n",
              "      border-radius: 50%;\n",
              "      cursor: pointer;\n",
              "      display: none;\n",
              "      fill: #1967D2;\n",
              "      height: 32px;\n",
              "      padding: 0 0 0 0;\n",
              "      width: 32px;\n",
              "    }\n",
              "\n",
              "    .colab-df-convert:hover {\n",
              "      background-color: #E2EBFA;\n",
              "      box-shadow: 0px 1px 2px rgba(60, 64, 67, 0.3), 0px 1px 3px 1px rgba(60, 64, 67, 0.15);\n",
              "      fill: #174EA6;\n",
              "    }\n",
              "\n",
              "    .colab-df-buttons div {\n",
              "      margin-bottom: 4px;\n",
              "    }\n",
              "\n",
              "    [theme=dark] .colab-df-convert {\n",
              "      background-color: #3B4455;\n",
              "      fill: #D2E3FC;\n",
              "    }\n",
              "\n",
              "    [theme=dark] .colab-df-convert:hover {\n",
              "      background-color: #434B5C;\n",
              "      box-shadow: 0px 1px 3px 1px rgba(0, 0, 0, 0.15);\n",
              "      filter: drop-shadow(0px 1px 2px rgba(0, 0, 0, 0.3));\n",
              "      fill: #FFFFFF;\n",
              "    }\n",
              "  </style>\n",
              "\n",
              "    <script>\n",
              "      const buttonEl =\n",
              "        document.querySelector('#df-d6ed7e22-6f8d-4df8-94fb-3ea2fd80c8be button.colab-df-convert');\n",
              "      buttonEl.style.display =\n",
              "        google.colab.kernel.accessAllowed ? 'block' : 'none';\n",
              "\n",
              "      async function convertToInteractive(key) {\n",
              "        const element = document.querySelector('#df-d6ed7e22-6f8d-4df8-94fb-3ea2fd80c8be');\n",
              "        const dataTable =\n",
              "          await google.colab.kernel.invokeFunction('convertToInteractive',\n",
              "                                                    [key], {});\n",
              "        if (!dataTable) return;\n",
              "\n",
              "        const docLinkHtml = 'Like what you see? Visit the ' +\n",
              "          '<a target=\"_blank\" href=https://colab.research.google.com/notebooks/data_table.ipynb>data table notebook</a>'\n",
              "          + ' to learn more about interactive tables.';\n",
              "        element.innerHTML = '';\n",
              "        dataTable['output_type'] = 'display_data';\n",
              "        await google.colab.output.renderOutput(dataTable, element);\n",
              "        const docLink = document.createElement('div');\n",
              "        docLink.innerHTML = docLinkHtml;\n",
              "        element.appendChild(docLink);\n",
              "      }\n",
              "    </script>\n",
              "  </div>\n",
              "\n",
              "\n",
              "<div id=\"df-0d26dc7a-356e-4492-8909-b3c431a019c1\">\n",
              "  <button class=\"colab-df-quickchart\" onclick=\"quickchart('df-0d26dc7a-356e-4492-8909-b3c431a019c1')\"\n",
              "            title=\"Suggest charts\"\n",
              "            style=\"display:none;\">\n",
              "\n",
              "<svg xmlns=\"http://www.w3.org/2000/svg\" height=\"24px\"viewBox=\"0 0 24 24\"\n",
              "     width=\"24px\">\n",
              "    <g>\n",
              "        <path d=\"M19 3H5c-1.1 0-2 .9-2 2v14c0 1.1.9 2 2 2h14c1.1 0 2-.9 2-2V5c0-1.1-.9-2-2-2zM9 17H7v-7h2v7zm4 0h-2V7h2v10zm4 0h-2v-4h2v4z\"/>\n",
              "    </g>\n",
              "</svg>\n",
              "  </button>\n",
              "\n",
              "<style>\n",
              "  .colab-df-quickchart {\n",
              "      --bg-color: #E8F0FE;\n",
              "      --fill-color: #1967D2;\n",
              "      --hover-bg-color: #E2EBFA;\n",
              "      --hover-fill-color: #174EA6;\n",
              "      --disabled-fill-color: #AAA;\n",
              "      --disabled-bg-color: #DDD;\n",
              "  }\n",
              "\n",
              "  [theme=dark] .colab-df-quickchart {\n",
              "      --bg-color: #3B4455;\n",
              "      --fill-color: #D2E3FC;\n",
              "      --hover-bg-color: #434B5C;\n",
              "      --hover-fill-color: #FFFFFF;\n",
              "      --disabled-bg-color: #3B4455;\n",
              "      --disabled-fill-color: #666;\n",
              "  }\n",
              "\n",
              "  .colab-df-quickchart {\n",
              "    background-color: var(--bg-color);\n",
              "    border: none;\n",
              "    border-radius: 50%;\n",
              "    cursor: pointer;\n",
              "    display: none;\n",
              "    fill: var(--fill-color);\n",
              "    height: 32px;\n",
              "    padding: 0;\n",
              "    width: 32px;\n",
              "  }\n",
              "\n",
              "  .colab-df-quickchart:hover {\n",
              "    background-color: var(--hover-bg-color);\n",
              "    box-shadow: 0 1px 2px rgba(60, 64, 67, 0.3), 0 1px 3px 1px rgba(60, 64, 67, 0.15);\n",
              "    fill: var(--button-hover-fill-color);\n",
              "  }\n",
              "\n",
              "  .colab-df-quickchart-complete:disabled,\n",
              "  .colab-df-quickchart-complete:disabled:hover {\n",
              "    background-color: var(--disabled-bg-color);\n",
              "    fill: var(--disabled-fill-color);\n",
              "    box-shadow: none;\n",
              "  }\n",
              "\n",
              "  .colab-df-spinner {\n",
              "    border: 2px solid var(--fill-color);\n",
              "    border-color: transparent;\n",
              "    border-bottom-color: var(--fill-color);\n",
              "    animation:\n",
              "      spin 1s steps(1) infinite;\n",
              "  }\n",
              "\n",
              "  @keyframes spin {\n",
              "    0% {\n",
              "      border-color: transparent;\n",
              "      border-bottom-color: var(--fill-color);\n",
              "      border-left-color: var(--fill-color);\n",
              "    }\n",
              "    20% {\n",
              "      border-color: transparent;\n",
              "      border-left-color: var(--fill-color);\n",
              "      border-top-color: var(--fill-color);\n",
              "    }\n",
              "    30% {\n",
              "      border-color: transparent;\n",
              "      border-left-color: var(--fill-color);\n",
              "      border-top-color: var(--fill-color);\n",
              "      border-right-color: var(--fill-color);\n",
              "    }\n",
              "    40% {\n",
              "      border-color: transparent;\n",
              "      border-right-color: var(--fill-color);\n",
              "      border-top-color: var(--fill-color);\n",
              "    }\n",
              "    60% {\n",
              "      border-color: transparent;\n",
              "      border-right-color: var(--fill-color);\n",
              "    }\n",
              "    80% {\n",
              "      border-color: transparent;\n",
              "      border-right-color: var(--fill-color);\n",
              "      border-bottom-color: var(--fill-color);\n",
              "    }\n",
              "    90% {\n",
              "      border-color: transparent;\n",
              "      border-bottom-color: var(--fill-color);\n",
              "    }\n",
              "  }\n",
              "</style>\n",
              "\n",
              "  <script>\n",
              "    async function quickchart(key) {\n",
              "      const quickchartButtonEl =\n",
              "        document.querySelector('#' + key + ' button');\n",
              "      quickchartButtonEl.disabled = true;  // To prevent multiple clicks.\n",
              "      quickchartButtonEl.classList.add('colab-df-spinner');\n",
              "      try {\n",
              "        const charts = await google.colab.kernel.invokeFunction(\n",
              "            'suggestCharts', [key], {});\n",
              "      } catch (error) {\n",
              "        console.error('Error during call to suggestCharts:', error);\n",
              "      }\n",
              "      quickchartButtonEl.classList.remove('colab-df-spinner');\n",
              "      quickchartButtonEl.classList.add('colab-df-quickchart-complete');\n",
              "    }\n",
              "    (() => {\n",
              "      let quickchartButtonEl =\n",
              "        document.querySelector('#df-0d26dc7a-356e-4492-8909-b3c431a019c1 button');\n",
              "      quickchartButtonEl.style.display =\n",
              "        google.colab.kernel.accessAllowed ? 'block' : 'none';\n",
              "    })();\n",
              "  </script>\n",
              "</div>\n",
              "    </div>\n",
              "  </div>\n"
            ],
            "application/vnd.google.colaboratory.intrinsic+json": {
              "type": "dataframe",
              "variable_name": "test",
              "summary": "{\n  \"name\": \"test\",\n  \"rows\": 4070,\n  \"fields\": [\n    {\n      \"column\": \"text\",\n      \"properties\": {\n        \"dtype\": \"string\",\n        \"num_unique_values\": 4070,\n        \"samples\": [\n          \"spin lucky wheel earn coins! scratch the card earn coins! complete math earn coins! watch video to earn coins! use my invite code earn coins! my code919163 install now\",\n          \"is ur paper today in e morn or aft\",\n          \"the only one person i can invest my last 3000 and i will be comfortable with maximum profit within days that person is crogers fxt hes the best binary option manger ever contact him via whatsapp \\ud83d\\udc47\\ud83d\\udc47\\ud83d\\udc47\\ud83d\\udc47\\ud83d\\udc47\\ud83d\\udc47 1 304 5139240\"\n        ],\n        \"semantic_type\": \"\",\n        \"description\": \"\"\n      }\n    }\n  ]\n}"
            }
          },
          "metadata": {},
          "execution_count": 70
        }
      ]
    },
    {
      "cell_type": "code",
      "source": [
        "missing_values = test.isna().sum()\n",
        "print(missing_values)"
      ],
      "metadata": {
        "colab": {
          "base_uri": "https://localhost:8080/"
        },
        "id": "R2MFqTva8f5N",
        "outputId": "8496d422-3517-49d2-ca6f-a683bb91a9b0"
      },
      "execution_count": 71,
      "outputs": [
        {
          "output_type": "stream",
          "name": "stdout",
          "text": [
            "text    0\n",
            "dtype: int64\n"
          ]
        }
      ]
    },
    {
      "cell_type": "code",
      "source": [
        "test['tokens'] = [preprocess_text(i) for i in test['text']]"
      ],
      "metadata": {
        "id": "3DKHyCGE8WXq"
      },
      "execution_count": 72,
      "outputs": []
    },
    {
      "cell_type": "code",
      "source": [
        "vectorizer = TfidfVectorizer(stop_words='english')\n",
        "train_final = vectorizer.fit(train['tokens'])\n",
        "test_final = vectorizer.transform(test['tokens'])\n",
        "test = test.drop(columns = 'text')\n",
        "test = test.rename(columns={'tokens': 'text'})"
      ],
      "metadata": {
        "id": "9uZ-M9Z08jjS"
      },
      "execution_count": 73,
      "outputs": []
    },
    {
      "cell_type": "code",
      "source": [
        "model = SVC(probability = True, C = 2)\n",
        "model.fit(X_train, y_train)\n",
        "predicted_result = model.predict(test_final)\n",
        "predicted_list = list(predicted_result)"
      ],
      "metadata": {
        "id": "HbthFP_b9Edx"
      },
      "execution_count": 75,
      "outputs": []
    },
    {
      "cell_type": "code",
      "source": [
        "test['score'] = predicted_list\n",
        "test"
      ],
      "metadata": {
        "id": "6SIp0Qyju5Is",
        "outputId": "440b9bb8-b247-4f9f-9cd8-2a341008e3b1",
        "colab": {
          "base_uri": "https://localhost:8080/",
          "height": 424
        }
      },
      "execution_count": 76,
      "outputs": [
        {
          "output_type": "execute_result",
          "data": {
            "text/plain": [
              "                                                   text  score\n",
              "0     j jim whitehead ejw cse ucsc edu writes j you ...      0\n",
              "1     original message from bitbitch magnesium net p...      0\n",
              "2     java for managers vince durasoft who just taug...      0\n",
              "3                  there is a youtuber name saiman says      0\n",
              "4     underpriced issue with high return on equity t...      1\n",
              "...                                                 ...    ...\n",
              "4065  husband to wifetum meri zindagi hoorwifeor kya...      0\n",
              "4066  baylor enron case study cindy yes i shall co a...      0\n",
              "4067                           boring as compared to tp      0\n",
              "4068  hellogorgeous hows u my fone was on charge lst...      0\n",
              "4069  energy conference mark we are really swamped a...      0\n",
              "\n",
              "[4070 rows x 2 columns]"
            ],
            "text/html": [
              "\n",
              "  <div id=\"df-a390be76-9c6b-468d-8b5c-d764bee69325\" class=\"colab-df-container\">\n",
              "    <div>\n",
              "<style scoped>\n",
              "    .dataframe tbody tr th:only-of-type {\n",
              "        vertical-align: middle;\n",
              "    }\n",
              "\n",
              "    .dataframe tbody tr th {\n",
              "        vertical-align: top;\n",
              "    }\n",
              "\n",
              "    .dataframe thead th {\n",
              "        text-align: right;\n",
              "    }\n",
              "</style>\n",
              "<table border=\"1\" class=\"dataframe\">\n",
              "  <thead>\n",
              "    <tr style=\"text-align: right;\">\n",
              "      <th></th>\n",
              "      <th>text</th>\n",
              "      <th>score</th>\n",
              "    </tr>\n",
              "  </thead>\n",
              "  <tbody>\n",
              "    <tr>\n",
              "      <th>0</th>\n",
              "      <td>j jim whitehead ejw cse ucsc edu writes j you ...</td>\n",
              "      <td>0</td>\n",
              "    </tr>\n",
              "    <tr>\n",
              "      <th>1</th>\n",
              "      <td>original message from bitbitch magnesium net p...</td>\n",
              "      <td>0</td>\n",
              "    </tr>\n",
              "    <tr>\n",
              "      <th>2</th>\n",
              "      <td>java for managers vince durasoft who just taug...</td>\n",
              "      <td>0</td>\n",
              "    </tr>\n",
              "    <tr>\n",
              "      <th>3</th>\n",
              "      <td>there is a youtuber name saiman says</td>\n",
              "      <td>0</td>\n",
              "    </tr>\n",
              "    <tr>\n",
              "      <th>4</th>\n",
              "      <td>underpriced issue with high return on equity t...</td>\n",
              "      <td>1</td>\n",
              "    </tr>\n",
              "    <tr>\n",
              "      <th>...</th>\n",
              "      <td>...</td>\n",
              "      <td>...</td>\n",
              "    </tr>\n",
              "    <tr>\n",
              "      <th>4065</th>\n",
              "      <td>husband to wifetum meri zindagi hoorwifeor kya...</td>\n",
              "      <td>0</td>\n",
              "    </tr>\n",
              "    <tr>\n",
              "      <th>4066</th>\n",
              "      <td>baylor enron case study cindy yes i shall co a...</td>\n",
              "      <td>0</td>\n",
              "    </tr>\n",
              "    <tr>\n",
              "      <th>4067</th>\n",
              "      <td>boring as compared to tp</td>\n",
              "      <td>0</td>\n",
              "    </tr>\n",
              "    <tr>\n",
              "      <th>4068</th>\n",
              "      <td>hellogorgeous hows u my fone was on charge lst...</td>\n",
              "      <td>0</td>\n",
              "    </tr>\n",
              "    <tr>\n",
              "      <th>4069</th>\n",
              "      <td>energy conference mark we are really swamped a...</td>\n",
              "      <td>0</td>\n",
              "    </tr>\n",
              "  </tbody>\n",
              "</table>\n",
              "<p>4070 rows × 2 columns</p>\n",
              "</div>\n",
              "    <div class=\"colab-df-buttons\">\n",
              "\n",
              "  <div class=\"colab-df-container\">\n",
              "    <button class=\"colab-df-convert\" onclick=\"convertToInteractive('df-a390be76-9c6b-468d-8b5c-d764bee69325')\"\n",
              "            title=\"Convert this dataframe to an interactive table.\"\n",
              "            style=\"display:none;\">\n",
              "\n",
              "  <svg xmlns=\"http://www.w3.org/2000/svg\" height=\"24px\" viewBox=\"0 -960 960 960\">\n",
              "    <path d=\"M120-120v-720h720v720H120Zm60-500h600v-160H180v160Zm220 220h160v-160H400v160Zm0 220h160v-160H400v160ZM180-400h160v-160H180v160Zm440 0h160v-160H620v160ZM180-180h160v-160H180v160Zm440 0h160v-160H620v160Z\"/>\n",
              "  </svg>\n",
              "    </button>\n",
              "\n",
              "  <style>\n",
              "    .colab-df-container {\n",
              "      display:flex;\n",
              "      gap: 12px;\n",
              "    }\n",
              "\n",
              "    .colab-df-convert {\n",
              "      background-color: #E8F0FE;\n",
              "      border: none;\n",
              "      border-radius: 50%;\n",
              "      cursor: pointer;\n",
              "      display: none;\n",
              "      fill: #1967D2;\n",
              "      height: 32px;\n",
              "      padding: 0 0 0 0;\n",
              "      width: 32px;\n",
              "    }\n",
              "\n",
              "    .colab-df-convert:hover {\n",
              "      background-color: #E2EBFA;\n",
              "      box-shadow: 0px 1px 2px rgba(60, 64, 67, 0.3), 0px 1px 3px 1px rgba(60, 64, 67, 0.15);\n",
              "      fill: #174EA6;\n",
              "    }\n",
              "\n",
              "    .colab-df-buttons div {\n",
              "      margin-bottom: 4px;\n",
              "    }\n",
              "\n",
              "    [theme=dark] .colab-df-convert {\n",
              "      background-color: #3B4455;\n",
              "      fill: #D2E3FC;\n",
              "    }\n",
              "\n",
              "    [theme=dark] .colab-df-convert:hover {\n",
              "      background-color: #434B5C;\n",
              "      box-shadow: 0px 1px 3px 1px rgba(0, 0, 0, 0.15);\n",
              "      filter: drop-shadow(0px 1px 2px rgba(0, 0, 0, 0.3));\n",
              "      fill: #FFFFFF;\n",
              "    }\n",
              "  </style>\n",
              "\n",
              "    <script>\n",
              "      const buttonEl =\n",
              "        document.querySelector('#df-a390be76-9c6b-468d-8b5c-d764bee69325 button.colab-df-convert');\n",
              "      buttonEl.style.display =\n",
              "        google.colab.kernel.accessAllowed ? 'block' : 'none';\n",
              "\n",
              "      async function convertToInteractive(key) {\n",
              "        const element = document.querySelector('#df-a390be76-9c6b-468d-8b5c-d764bee69325');\n",
              "        const dataTable =\n",
              "          await google.colab.kernel.invokeFunction('convertToInteractive',\n",
              "                                                    [key], {});\n",
              "        if (!dataTable) return;\n",
              "\n",
              "        const docLinkHtml = 'Like what you see? Visit the ' +\n",
              "          '<a target=\"_blank\" href=https://colab.research.google.com/notebooks/data_table.ipynb>data table notebook</a>'\n",
              "          + ' to learn more about interactive tables.';\n",
              "        element.innerHTML = '';\n",
              "        dataTable['output_type'] = 'display_data';\n",
              "        await google.colab.output.renderOutput(dataTable, element);\n",
              "        const docLink = document.createElement('div');\n",
              "        docLink.innerHTML = docLinkHtml;\n",
              "        element.appendChild(docLink);\n",
              "      }\n",
              "    </script>\n",
              "  </div>\n",
              "\n",
              "\n",
              "<div id=\"df-26d93bbe-e9eb-4614-a965-ad8541dac564\">\n",
              "  <button class=\"colab-df-quickchart\" onclick=\"quickchart('df-26d93bbe-e9eb-4614-a965-ad8541dac564')\"\n",
              "            title=\"Suggest charts\"\n",
              "            style=\"display:none;\">\n",
              "\n",
              "<svg xmlns=\"http://www.w3.org/2000/svg\" height=\"24px\"viewBox=\"0 0 24 24\"\n",
              "     width=\"24px\">\n",
              "    <g>\n",
              "        <path d=\"M19 3H5c-1.1 0-2 .9-2 2v14c0 1.1.9 2 2 2h14c1.1 0 2-.9 2-2V5c0-1.1-.9-2-2-2zM9 17H7v-7h2v7zm4 0h-2V7h2v10zm4 0h-2v-4h2v4z\"/>\n",
              "    </g>\n",
              "</svg>\n",
              "  </button>\n",
              "\n",
              "<style>\n",
              "  .colab-df-quickchart {\n",
              "      --bg-color: #E8F0FE;\n",
              "      --fill-color: #1967D2;\n",
              "      --hover-bg-color: #E2EBFA;\n",
              "      --hover-fill-color: #174EA6;\n",
              "      --disabled-fill-color: #AAA;\n",
              "      --disabled-bg-color: #DDD;\n",
              "  }\n",
              "\n",
              "  [theme=dark] .colab-df-quickchart {\n",
              "      --bg-color: #3B4455;\n",
              "      --fill-color: #D2E3FC;\n",
              "      --hover-bg-color: #434B5C;\n",
              "      --hover-fill-color: #FFFFFF;\n",
              "      --disabled-bg-color: #3B4455;\n",
              "      --disabled-fill-color: #666;\n",
              "  }\n",
              "\n",
              "  .colab-df-quickchart {\n",
              "    background-color: var(--bg-color);\n",
              "    border: none;\n",
              "    border-radius: 50%;\n",
              "    cursor: pointer;\n",
              "    display: none;\n",
              "    fill: var(--fill-color);\n",
              "    height: 32px;\n",
              "    padding: 0;\n",
              "    width: 32px;\n",
              "  }\n",
              "\n",
              "  .colab-df-quickchart:hover {\n",
              "    background-color: var(--hover-bg-color);\n",
              "    box-shadow: 0 1px 2px rgba(60, 64, 67, 0.3), 0 1px 3px 1px rgba(60, 64, 67, 0.15);\n",
              "    fill: var(--button-hover-fill-color);\n",
              "  }\n",
              "\n",
              "  .colab-df-quickchart-complete:disabled,\n",
              "  .colab-df-quickchart-complete:disabled:hover {\n",
              "    background-color: var(--disabled-bg-color);\n",
              "    fill: var(--disabled-fill-color);\n",
              "    box-shadow: none;\n",
              "  }\n",
              "\n",
              "  .colab-df-spinner {\n",
              "    border: 2px solid var(--fill-color);\n",
              "    border-color: transparent;\n",
              "    border-bottom-color: var(--fill-color);\n",
              "    animation:\n",
              "      spin 1s steps(1) infinite;\n",
              "  }\n",
              "\n",
              "  @keyframes spin {\n",
              "    0% {\n",
              "      border-color: transparent;\n",
              "      border-bottom-color: var(--fill-color);\n",
              "      border-left-color: var(--fill-color);\n",
              "    }\n",
              "    20% {\n",
              "      border-color: transparent;\n",
              "      border-left-color: var(--fill-color);\n",
              "      border-top-color: var(--fill-color);\n",
              "    }\n",
              "    30% {\n",
              "      border-color: transparent;\n",
              "      border-left-color: var(--fill-color);\n",
              "      border-top-color: var(--fill-color);\n",
              "      border-right-color: var(--fill-color);\n",
              "    }\n",
              "    40% {\n",
              "      border-color: transparent;\n",
              "      border-right-color: var(--fill-color);\n",
              "      border-top-color: var(--fill-color);\n",
              "    }\n",
              "    60% {\n",
              "      border-color: transparent;\n",
              "      border-right-color: var(--fill-color);\n",
              "    }\n",
              "    80% {\n",
              "      border-color: transparent;\n",
              "      border-right-color: var(--fill-color);\n",
              "      border-bottom-color: var(--fill-color);\n",
              "    }\n",
              "    90% {\n",
              "      border-color: transparent;\n",
              "      border-bottom-color: var(--fill-color);\n",
              "    }\n",
              "  }\n",
              "</style>\n",
              "\n",
              "  <script>\n",
              "    async function quickchart(key) {\n",
              "      const quickchartButtonEl =\n",
              "        document.querySelector('#' + key + ' button');\n",
              "      quickchartButtonEl.disabled = true;  // To prevent multiple clicks.\n",
              "      quickchartButtonEl.classList.add('colab-df-spinner');\n",
              "      try {\n",
              "        const charts = await google.colab.kernel.invokeFunction(\n",
              "            'suggestCharts', [key], {});\n",
              "      } catch (error) {\n",
              "        console.error('Error during call to suggestCharts:', error);\n",
              "      }\n",
              "      quickchartButtonEl.classList.remove('colab-df-spinner');\n",
              "      quickchartButtonEl.classList.add('colab-df-quickchart-complete');\n",
              "    }\n",
              "    (() => {\n",
              "      let quickchartButtonEl =\n",
              "        document.querySelector('#df-26d93bbe-e9eb-4614-a965-ad8541dac564 button');\n",
              "      quickchartButtonEl.style.display =\n",
              "        google.colab.kernel.accessAllowed ? 'block' : 'none';\n",
              "    })();\n",
              "  </script>\n",
              "</div>\n",
              "    </div>\n",
              "  </div>\n"
            ],
            "application/vnd.google.colaboratory.intrinsic+json": {
              "type": "dataframe",
              "variable_name": "test",
              "summary": "{\n  \"name\": \"test\",\n  \"rows\": 4070,\n  \"fields\": [\n    {\n      \"column\": \"text\",\n      \"properties\": {\n        \"dtype\": \"string\",\n        \"num_unique_values\": 4064,\n        \"samples\": [\n          \"w\\u029c\\u1d07\\u0274 \\u1d07\\u1d20\\u1d07\\u0280\\u028f\\u1d1b\\u029c\\u026a\\u0274\\u0262 s\\u1d07\\u1d07\\u1d0ds \\u1d1b\\u1d0f \\u0299\\u1d07 \\u0262\\u1d0f\\u026a\\u0274\\u0262 s\\u026a\\u1d05\\u1d07\\u1d21\\u1d00\\u028fs \\u0493\\u1d0f\\u0280 \\u1d0d\\u1d07 \\u1d00\\u0274\\u1d05 \\u1d0d\\u028f \\u0493\\u1d00\\u1d0d\\u026a\\u029f\\u028f \\u1d00 \\u0493\\u0280\\u026a\\u1d07\\u0274\\u1d05 \\u026a\\u0274\\u1d1b\\u0280\\u1d0f\\u1d05\\u1d1c\\u1d04\\u1d07\\u1d05 \\u1d0d\\u1d07 \\u1d1b\\u1d0f m\\u0280 patrick rakuten \\u1d00\\u0274\\u1d05 s\\u026a\\u0274\\u1d04\\u1d07 i s\\u1d1b\\u1d00\\u0280\\u1d1b\\u1d07\\u1d05 \\u026a\\u0274\\u1d20\\u1d07s\\u1d1b\\u026a\\u0274\\u0262 \\u1d21\\u026a\\u1d1b\\u029c \\u029c\\u026a\\u1d0d \\u1d0d\\u028f s\\u1d1b\\u1d0f\\u0280\\u028f \\u1d04\\u029c\\u1d00\\u0274\\u0262\\u1d07\\u1d05 n\\u1d0f\\u1d21 \\u026a \\u1d04\\u1d00\\u0274 \\u1d04\\u1d00\\u1d1b\\u1d07\\u0280 \\u0493\\u1d0f\\u0280 \\u1d0d\\u028f \\u0493\\u1d00\\u1d0d\\u026a\\u029f\\u028f \\u1d21\\u026a\\u1d1b\\u029c \\u029c\\u1d07\\u029f\\u1d18 \\u1d04\\u029f\\u026a\\u1d04\\u1d0b \\u1d0f\\u0274 \\u1d1b\\u029c\\u1d07 \\u029f\\u026a\\u0274\\u1d0b \\u0299\\u1d07\\u029f\\u1d0f\\u1d21 \\u1d1b\\u1d0f \\u0262\\u1d07\\u1d1b s\\u1d1b\\u1d00\\u0280\\u1d1b\\u1d07\\u1d05 \\u029f\\u026a\\u1d0b\\u1d07 i \\u1d05\\u1d0f \\u029c\\u1d07 \\u1d1cs \\u0280\\u1d07\\u1d00\\u029f\\u029f\\u028f \\u1d00\\u1d0d\\u1d00\\u1d22\\u026a\\u0274\\u0262 patrickrakuten\",\n          \"babe i miiiiiiissssssssss you i need you i crave you geeee im so sad without you babe i love you\",\n          \"i know i heard of this a few years back but wired and slashyrot are both running stories on mbs data transfer via human touch oh i can see it now the first bicostal file exchange system that will see the newsest offspring tunes distribute by handshake copulation and moshpiting url url url\"\n        ],\n        \"semantic_type\": \"\",\n        \"description\": \"\"\n      }\n    },\n    {\n      \"column\": \"score\",\n      \"properties\": {\n        \"dtype\": \"number\",\n        \"std\": 0,\n        \"min\": 0,\n        \"max\": 1,\n        \"num_unique_values\": 2,\n        \"samples\": [\n          1,\n          0\n        ],\n        \"semantic_type\": \"\",\n        \"description\": \"\"\n      }\n    }\n  ]\n}"
            }
          },
          "metadata": {},
          "execution_count": 76
        }
      ]
    },
    {
      "cell_type": "markdown",
      "source": [
        "Запишем финальный результат в файл"
      ],
      "metadata": {
        "id": "r1TXkMr1LJWq"
      }
    },
    {
      "cell_type": "code",
      "source": [
        "test.to_csv('sample_submit.csv', index=False)"
      ],
      "metadata": {
        "id": "y_dlPGHa99Cu"
      },
      "execution_count": 77,
      "outputs": []
    },
    {
      "cell_type": "markdown",
      "source": [
        "Ради интереса посмотрим на распределение ответов в столбце text_type. Выглядит неплохо"
      ],
      "metadata": {
        "id": "GvG8ukLv-Dsk"
      }
    },
    {
      "cell_type": "code",
      "source": [
        "sns.countplot(data = test, x = test['score'])"
      ],
      "metadata": {
        "colab": {
          "base_uri": "https://localhost:8080/",
          "height": 466
        },
        "id": "wkE_vyVg-CcB",
        "outputId": "29cbe86d-c273-488d-a5e4-4131890bb7db"
      },
      "execution_count": 79,
      "outputs": [
        {
          "output_type": "execute_result",
          "data": {
            "text/plain": [
              "<Axes: xlabel='score', ylabel='count'>"
            ]
          },
          "metadata": {},
          "execution_count": 79
        },
        {
          "output_type": "display_data",
          "data": {
            "text/plain": [
              "<Figure size 640x480 with 1 Axes>"
            ],
            "image/png": "[encoded data removed]"
          },
          "metadata": {}
        }
      ]
    }
  ]
}